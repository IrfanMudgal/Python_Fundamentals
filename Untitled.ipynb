{
 "cells": [
  {
   "cell_type": "code",
   "execution_count": 1,
   "id": "4d8f6c77",
   "metadata": {},
   "outputs": [
    {
     "name": "stdout",
     "output_type": "stream",
     "text": [
      "Hello Faiyaz Bhai, Thank You very Much for this community service. World will remember you for your contributions\n"
     ]
    }
   ],
   "source": [
    "print(\"Hello Faiyaz Bhai, Thank You very Much for this community service. World will remember you for your contributions\")"
   ]
  },
  {
   "cell_type": "code",
   "execution_count": null,
   "id": "8a55b047",
   "metadata": {},
   "outputs": [],
   "source": []
  }
 ],
 "metadata": {
  "kernelspec": {
   "display_name": "Python 3 (ipykernel)",
   "language": "python",
   "name": "python3"
  },
  "language_info": {
   "codemirror_mode": {
    "name": "ipython",
    "version": 3
   },
   "file_extension": ".py",
   "mimetype": "text/x-python",
   "name": "python",
   "nbconvert_exporter": "python",
   "pygments_lexer": "ipython3",
   "version": "3.10.9"
  }
 },
 "nbformat": 4,
 "nbformat_minor": 5
}
